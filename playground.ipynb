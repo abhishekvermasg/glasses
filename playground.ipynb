{
 "cells": [
  {
   "cell_type": "code",
   "execution_count": 1,
   "metadata": {
    "scrolled": true
   },
   "outputs": [],
   "source": [
    "%load_ext autoreload\n",
    "%autoreload 2"
   ]
  },
  {
   "cell_type": "markdown",
   "metadata": {},
   "source": [
    "# MTCNN"
   ]
  },
  {
   "cell_type": "code",
   "execution_count": 36,
   "metadata": {},
   "outputs": [],
   "source": [
    "def fixed_image_standardization(image_tensor):\n",
    "    processed_tensor = (image_tensor - 127.5) / 128.0\n",
    "    return processed_tensor"
   ]
  },
  {
   "cell_type": "code",
   "execution_count": 42,
   "metadata": {},
   "outputs": [],
   "source": [
    "import requests\n",
    "from io import BytesIO\n",
    "from PIL import Image\n",
    "\n",
    "r = requests.get('https://i.insider.com/555264b0ecad041477fbd87e?width=1100&format=jpeg&auto=webp')\n",
    "img = Image.open(BytesIO(r.content))\n",
    "\n"
   ]
  },
  {
   "cell_type": "code",
   "execution_count": 62,
   "metadata": {},
   "outputs": [],
   "source": [
    "min_face_size = 20\n",
    "factor = 0.709"
   ]
  },
  {
   "cell_type": "code",
   "execution_count": 258,
   "metadata": {},
   "outputs": [
    {
     "data": {
      "text/plain": [
       "torch.Size([4, 75, 75])"
      ]
     },
     "execution_count": 258,
     "metadata": {},
     "output_type": "execute_result"
    }
   ],
   "source": [
    "from facenet_pytorch.models.mtcnn import PNet\n",
    "from torchvision.transforms import Compose, Resize, Normalize, ToTensor\n",
    "\n",
    "\n",
    "transform = Compose([Resize((160, 160)), ToTensor()])\n",
    "x = transform(img)\n",
    "batch = torch.stack([x, x.clone()])\n",
    "pnet = PNet(pretrained=True)\n",
    "\n",
    "regions, probs = pnet(batch)\n",
    "\n",
    "regions.shape, probs.shape\n",
    "\n",
    "regions[0].shape"
   ]
  },
  {
   "cell_type": "markdown",
   "metadata": {},
   "source": [
    "### pyramid scaling"
   ]
  },
  {
   "cell_type": "code",
   "execution_count": 244,
   "metadata": {},
   "outputs": [],
   "source": [
    "from dataclasses import dataclass\n",
    "from torch.nn.functional import interpolate\n",
    "from torch import Tensor\n",
    "\n",
    "@dataclass\n",
    "class PyramidScaling:\n",
    "    min_size: int = 20\n",
    "    factor: float = 0.709\n",
    "    min_scale: int = 12\n",
    "        \n",
    "    def __call__(self, x:Tensor) -> Tensor:\n",
    "        b, c, w , h = x.shape\n",
    "        scale = self.min_scale / self.min_size\n",
    "        scaled = [interpolate(x, scale_factor=scale, mode='area')]\n",
    "        size = w * scale\n",
    "        scales = [scale]\n",
    "        while scaled[-1].shape[-1] > self.min_scale:\n",
    "            scale = scale * factor\n",
    "            scaled.append(interpolate(x, scale_factor=scale, mode='area'))\n",
    "            scales.append(scale)\n",
    "        return scaled, scales\n"
   ]
  },
  {
   "cell_type": "code",
   "execution_count": 357,
   "metadata": {
    "scrolled": true
   },
   "outputs": [
    {
     "data": {
      "text/plain": [
       "<matplotlib.image.AxesImage at 0x7fb058963ee0>"
      ]
     },
     "execution_count": 357,
     "metadata": {},
     "output_type": "execute_result"
    },
    {
     "data": {
      "image/png": "[encoded data removed]",
      "text/plain": [
       "<Figure size 432x288 with 1 Axes>"
      ]
     },
     "metadata": {
      "needs_background": "light"
     },
     "output_type": "display_data"
    }
   ],
   "source": [
    "import matplotlib.pyplot as plt\n",
    "pyramids, _ = PyramidScaling()(batch)\n",
    "fig = plt.figure()\n",
    "\n",
    "plt.imshow(pyramids[1][1].permute(1,2,0))"
   ]
  },
  {
   "cell_type": "code",
   "execution_count": 358,
   "metadata": {
    "scrolled": true
   },
   "outputs": [
    {
     "data": {
      "text/plain": [
       "tensor([[[[0.0083, 0.0083, 0.0095,  ..., 0.0039, 0.0039, 0.0039],\n",
       "          [0.0109, 0.0109, 0.0114,  ..., 0.0039, 0.0039, 0.0039],\n",
       "          [0.0118, 0.0118, 0.0118,  ..., 0.0039, 0.0039, 0.0049],\n",
       "          ...,\n",
       "          [0.0062, 0.0075, 0.0078,  ..., 0.0078, 0.0078, 0.0069],\n",
       "          [0.0048, 0.0057, 0.0075,  ..., 0.0078, 0.0078, 0.0074],\n",
       "          [0.0039, 0.0039, 0.0049,  ..., 0.0065, 0.0070, 0.0065]],\n",
       "\n",
       "         [[0.0122, 0.0122, 0.0134,  ..., 0.0078, 0.0078, 0.0078],\n",
       "          [0.0148, 0.0148, 0.0154,  ..., 0.0078, 0.0078, 0.0078],\n",
       "          [0.0157, 0.0157, 0.0157,  ..., 0.0078, 0.0078, 0.0088],\n",
       "          ...,\n",
       "          [0.0101, 0.0114, 0.0118,  ..., 0.0118, 0.0118, 0.0108],\n",
       "          [0.0087, 0.0096, 0.0114,  ..., 0.0118, 0.0118, 0.0113],\n",
       "          [0.0078, 0.0078, 0.0088,  ..., 0.0105, 0.0109, 0.0105]],\n",
       "\n",
       "         [[0.0279, 0.0279, 0.0291,  ..., 0.0235, 0.0183, 0.0157],\n",
       "          [0.0305, 0.0305, 0.0310,  ..., 0.0235, 0.0209, 0.0196],\n",
       "          [0.0314, 0.0314, 0.0314,  ..., 0.0235, 0.0235, 0.0245],\n",
       "          ...,\n",
       "          [0.0219, 0.0196, 0.0201,  ..., 0.0233, 0.0268, 0.0235],\n",
       "          [0.0200, 0.0183, 0.0193,  ..., 0.0222, 0.0235, 0.0214],\n",
       "          [0.0157, 0.0157, 0.0167,  ..., 0.0183, 0.0187, 0.0183]]],\n",
       "\n",
       "\n",
       "        [[[0.0083, 0.0083, 0.0095,  ..., 0.0039, 0.0039, 0.0039],\n",
       "          [0.0109, 0.0109, 0.0114,  ..., 0.0039, 0.0039, 0.0039],\n",
       "          [0.0118, 0.0118, 0.0118,  ..., 0.0039, 0.0039, 0.0049],\n",
       "          ...,\n",
       "          [0.0062, 0.0075, 0.0078,  ..., 0.0078, 0.0078, 0.0069],\n",
       "          [0.0048, 0.0057, 0.0075,  ..., 0.0078, 0.0078, 0.0074],\n",
       "          [0.0039, 0.0039, 0.0049,  ..., 0.0065, 0.0070, 0.0065]],\n",
       "\n",
       "         [[0.0122, 0.0122, 0.0134,  ..., 0.0078, 0.0078, 0.0078],\n",
       "          [0.0148, 0.0148, 0.0154,  ..., 0.0078, 0.0078, 0.0078],\n",
       "          [0.0157, 0.0157, 0.0157,  ..., 0.0078, 0.0078, 0.0088],\n",
       "          ...,\n",
       "          [0.0101, 0.0114, 0.0118,  ..., 0.0118, 0.0118, 0.0108],\n",
       "          [0.0087, 0.0096, 0.0114,  ..., 0.0118, 0.0118, 0.0113],\n",
       "          [0.0078, 0.0078, 0.0088,  ..., 0.0105, 0.0109, 0.0105]],\n",
       "\n",
       "         [[0.0279, 0.0279, 0.0291,  ..., 0.0235, 0.0183, 0.0157],\n",
       "          [0.0305, 0.0305, 0.0310,  ..., 0.0235, 0.0209, 0.0196],\n",
       "          [0.0314, 0.0314, 0.0314,  ..., 0.0235, 0.0235, 0.0245],\n",
       "          ...,\n",
       "          [0.0219, 0.0196, 0.0201,  ..., 0.0233, 0.0268, 0.0235],\n",
       "          [0.0200, 0.0183, 0.0193,  ..., 0.0222, 0.0235, 0.0214],\n",
       "          [0.0157, 0.0157, 0.0167,  ..., 0.0183, 0.0187, 0.0183]]]])"
      ]
     },
     "execution_count": 358,
     "metadata": {},
     "output_type": "execute_result"
    }
   ],
   "source": [
    "pyramids[1]"
   ]
  },
  {
   "cell_type": "code",
   "execution_count": 355,
   "metadata": {},
   "outputs": [
    {
     "data": {
      "text/plain": [
       "<matplotlib.image.AxesImage at 0x7fb0585df6a0>"
      ]
     },
     "execution_count": 355,
     "metadata": {},
     "output_type": "execute_result"
    },
    {
     "data": {
      "image/png": "[encoded data removed]",
      "text/plain": [
       "<Figure size 432x288 with 1 Axes>"
      ]
     },
     "metadata": {
      "needs_background": "light"
     },
     "output_type": "display_data"
    }
   ],
   "source": [
    "fig = plt.figure()\n",
    "\n",
    "plt.imshow(mask[0])"
   ]
  },
  {
   "cell_type": "code",
   "execution_count": 356,
   "metadata": {
    "scrolled": true
   },
   "outputs": [
    {
     "name": "stdout",
     "output_type": "stream",
     "text": [
      "torch.Size([2, 43, 43])\n"
     ]
    },
    {
     "data": {
      "text/plain": [
       "torch.Size([4, 408])"
      ]
     },
     "execution_count": 356,
     "metadata": {},
     "output_type": "execute_result"
    }
   ],
   "source": [
    "mask = probs[:,1] >= 0.2\n",
    "print(mask.shape)\n",
    "tmp = regs.permute(1,0,2,3)\n",
    "tmp[:, mask].shape"
   ]
  },
  {
   "cell_type": "code",
   "execution_count": 298,
   "metadata": {},
   "outputs": [
    {
     "data": {
      "text/plain": [
       "torch.Size([4])"
      ]
     },
     "execution_count": 298,
     "metadata": {},
     "output_type": "execute_result"
    }
   ],
   "source": [
    "regs[:,1][(probs[:,1] > 0.6)].shape"
   ]
  },
  {
   "cell_type": "code",
   "execution_count": 343,
   "metadata": {
    "scrolled": true
   },
   "outputs": [
    {
     "name": "stdout",
     "output_type": "stream",
     "text": [
      "tensor([ 8.5000e+01,  6.5000e+01,  1.0300e+02,  8.3000e+01,  8.2387e-01,\n",
      "        -3.6634e-02, -1.7739e-02, -9.7837e-02,  1.4572e-01])\n"
     ]
    }
   ],
   "source": [
    "import matplotlib.pyplot as plt\n",
    "\n",
    "with torch.no_grad():\n",
    "    for (pyramid, scale) in zip(*PyramidScaling()(batch)):\n",
    "        regs, probs = pnet(pyramid) \n",
    "        bbox, inds = generateBoundingBox(regs, probs[:,1], scale, 0.6)\n",
    "        print(bbox[0])\n",
    "        break"
   ]
  },
  {
   "cell_type": "code",
   "execution_count": 188,
   "metadata": {
    "scrolled": true
   },
   "outputs": [],
   "source": [
    "# Create scale pyramid\n",
    "scale = 12 / min_face_size\n",
    "scaled = 160 * scale\n",
    "scales = []\n",
    "while scaled >= 12:\n",
    "    scales.append(scale)\n",
    "    scale = scale * factor\n",
    "    scaled = scaled * factor\n",
    "    "
   ]
  },
  {
   "cell_type": "code",
   "execution_count": 189,
   "metadata": {},
   "outputs": [
    {
     "data": {
      "text/plain": [
       "[96.0,\n",
       " 68.064,\n",
       " 48.257375999999994,\n",
       " 34.21447958399999,\n",
       " 24.258066025055992,\n",
       " 17.1989688117647,\n",
       " 12.194068887541171]"
      ]
     },
     "execution_count": 189,
     "metadata": {},
     "output_type": "execute_result"
    }
   ],
   "source": [
    "[160 *  s for s in scales]"
   ]
  },
  {
   "cell_type": "code",
   "execution_count": 83,
   "metadata": {},
   "outputs": [
    {
     "data": {
      "text/plain": [
       "[96.0,\n",
       " 68.064,\n",
       " 48.257375999999994,\n",
       " 34.21447958399999,\n",
       " 24.258066025055992,\n",
       " 17.1989688117647,\n",
       " 12.194068887541171]"
      ]
     },
     "execution_count": 83,
     "metadata": {},
     "output_type": "execute_result"
    }
   ],
   "source": [
    "[160 *  s for s in scales]"
   ]
  },
  {
   "cell_type": "code",
   "execution_count": 2,
   "metadata": {
    "scrolled": true
   },
   "outputs": [
    {
     "name": "stdout",
     "output_type": "stream",
     "text": [
      "torch.Size([1, 2, 224, 224])\n"
     ]
    }
   ],
   "source": [
    "from glasses.models.segmentation.fpn import *\n",
    "from glasses.models.segmentation.unet import *\n",
    "from functools import partial\n",
    "from glasses.models import *\n",
    "from glasses.models.classification.resnet import ResNetBottleneckBlock\n",
    "\n",
    "model = PFPN(encoder=partial(ResNetEncoder, block=ResNetBottleneckBlock, depths=[2,2,2,2]))\n",
    "# model = FPN()\n",
    "# model = PPFN()\n",
    "out = model(torch.randn(1,1,224,224))\n",
    "print(out.shape)\n",
    "# model\n",
    "\n",
    "# [o.shape for o in out]\n",
    "# model.encoder.features_widths"
   ]
  },
  {
   "cell_type": "code",
   "execution_count": 3,
   "metadata": {},
   "outputs": [
    {
     "data": {
      "text/plain": [
       "[32, 24, 40, 80, 192]"
      ]
     },
     "execution_count": 3,
     "metadata": {},
     "output_type": "execute_result"
    }
   ],
   "source": [
    "from glasses.models.classification.efficientnet import EfficientNetEncoder\n",
    "\n",
    "EfficientNetEncoder().features_widths\n"
   ]
  },
  {
   "cell_type": "code",
   "execution_count": 4,
   "metadata": {},
   "outputs": [
    {
     "data": {
      "text/plain": [
       "array([1, 2, 3, 5])"
      ]
     },
     "execution_count": 4,
     "metadata": {},
     "output_type": "execute_result"
    }
   ],
   "source": [
    "import numpy as np\n",
    "a = [1, 2, 2, 2, 1, 2, 1]\n",
    "\n",
    "np.arange(len(a))[np.array(a) == 2]"
   ]
  },
  {
   "cell_type": "markdown",
   "metadata": {},
   "source": [
    "# AutoModel"
   ]
  },
  {
   "cell_type": "code",
   "execution_count": 29,
   "metadata": {},
   "outputs": [],
   "source": [
    "from glasses.models.AutoModel import AutoModel\n",
    "from glasses.models.AutoConfig import AutoConfig\n",
    "import torch"
   ]
  },
  {
   "cell_type": "code",
   "execution_count": 30,
   "metadata": {},
   "outputs": [
    {
     "data": {
      "text/plain": [
       "[32, 24, 40, 80]"
      ]
     },
     "execution_count": 30,
     "metadata": {},
     "output_type": "execute_result"
    }
   ],
   "source": [
    "AutoModel.from_name('efficientnet_b0').encoder.features_widths"
   ]
  },
  {
   "cell_type": "code",
   "execution_count": 31,
   "metadata": {},
   "outputs": [
    {
     "data": {
      "text/plain": [
       "4"
      ]
     },
     "execution_count": 31,
     "metadata": {},
     "output_type": "execute_result"
    }
   ],
   "source": [
    "len(AutoModel.from_name('efficientnet_b2').encoder.stages)"
   ]
  },
  {
   "cell_type": "code",
   "execution_count": 32,
   "metadata": {
    "scrolled": false
   },
   "outputs": [
    {
     "data": {
      "text/plain": [
       "tensor([[[[ 1.2522e-01,  1.2171e-01,  5.8732e-02,  ..., -2.8594e-01,\n",
       "            1.2283e-01,  1.5014e-01],\n",
       "          [ 4.0246e-02,  1.0498e-01,  1.1626e-01,  ...,  2.2126e-01,\n",
       "            3.3360e-01,  3.0549e-01],\n",
       "          [-2.3279e-01, -2.1874e-01, -2.6462e-01,  ...,  6.0497e-01,\n",
       "            1.0875e-01,  1.5122e-01],\n",
       "          ...,\n",
       "          [-1.1389e-01, -1.3482e-01,  2.2659e-01,  ..., -6.1285e-02,\n",
       "           -8.7416e-02, -2.8309e-02],\n",
       "          [-1.5989e-01,  3.4743e-02, -2.9768e-01,  ...,  1.0780e-01,\n",
       "           -4.7979e-01,  2.3952e-01],\n",
       "          [ 7.9296e-02,  1.1357e-02,  1.0315e-01,  ..., -7.1404e-02,\n",
       "           -3.0633e-01, -3.6861e-01]],\n",
       "\n",
       "         [[ 2.1440e-01, -1.6960e-01,  7.0719e-02,  ..., -8.5503e-02,\n",
       "            4.1183e-04, -1.1782e-01],\n",
       "          [-6.3867e-02,  1.7682e-02,  8.4108e-02,  ...,  6.0590e-01,\n",
       "           -1.5115e-01,  3.4385e-01],\n",
       "          [ 4.7620e-01, -2.2236e-01,  8.0767e-02,  ...,  3.6425e-01,\n",
       "            2.6487e-01, -8.4237e-02],\n",
       "          ...,\n",
       "          [ 1.8951e-01,  2.1918e-01,  1.5794e-01,  ..., -4.4069e-01,\n",
       "            4.9208e-02, -3.5421e-01],\n",
       "          [ 2.7341e-01,  2.1384e-01, -2.2154e-01,  ...,  3.6201e-02,\n",
       "           -9.0711e-02,  9.5151e-02],\n",
       "          [ 3.3168e-01,  1.2038e-03, -1.6365e-01,  ...,  2.5840e-01,\n",
       "            4.9666e-02,  2.1953e-01]]]], grad_fn=<MkldnnConvolutionBackward>)"
      ]
     },
     "execution_count": 32,
     "metadata": {},
     "output_type": "execute_result"
    }
   ],
   "source": [
    "\n",
    "unet = UNet.from_encoder(partial(AutoModel.from_name, 'efficientnet_b2'))\n",
    "unet(torch.randn((1,1,384,384)))"
   ]
  },
  {
   "cell_type": "markdown",
   "metadata": {},
   "source": [
    "# Benchmark"
   ]
  },
  {
   "cell_type": "code",
   "execution_count": 7,
   "metadata": {},
   "outputs": [
    {
     "data": {
      "text/plain": [
       "True"
      ]
     },
     "execution_count": 7,
     "metadata": {},
     "output_type": "execute_result"
    }
   ],
   "source": [
    "a = [1,2,3]\n",
    "b = [1,2,3]\n",
    "\n",
    "a == b"
   ]
  },
  {
   "cell_type": "code",
   "execution_count": 8,
   "metadata": {},
   "outputs": [
    {
     "ename": "NameError",
     "evalue": "name 'RegNetScaler' is not defined",
     "output_type": "error",
     "traceback": [
      "\u001b[0;31m---------------------------------------------------------------------------\u001b[0m",
      "\u001b[0;31mNameError\u001b[0m                                 Traceback (most recent call last)",
      "\u001b[0;32m<ipython-input-8-8984595f116f>\u001b[0m in \u001b[0;36m<module>\u001b[0;34m\u001b[0m\n\u001b[0;32m----> 1\u001b[0;31m {'regnetx_002' : RegNetScaler()(w_0 = 24, w_a = 36.44, w_m = 2.49, group_w = 8, depth = 13 ),\n\u001b[0m\u001b[1;32m      2\u001b[0m    \u001b[0;34m'regnetx_004'\u001b[0m \u001b[0;34m:\u001b[0m \u001b[0mRegNetScaler\u001b[0m\u001b[0;34m(\u001b[0m\u001b[0;34m)\u001b[0m\u001b[0;34m(\u001b[0m\u001b[0mw_0\u001b[0m \u001b[0;34m=\u001b[0m \u001b[0;36m24\u001b[0m\u001b[0;34m,\u001b[0m \u001b[0mw_a\u001b[0m \u001b[0;34m=\u001b[0m \u001b[0;36m24.48\u001b[0m\u001b[0;34m,\u001b[0m \u001b[0mw_m\u001b[0m \u001b[0;34m=\u001b[0m \u001b[0;36m2.54\u001b[0m\u001b[0;34m,\u001b[0m \u001b[0mgroup_w\u001b[0m \u001b[0;34m=\u001b[0m \u001b[0;36m16\u001b[0m\u001b[0;34m,\u001b[0m \u001b[0mdepth\u001b[0m \u001b[0;34m=\u001b[0m \u001b[0;36m22\u001b[0m \u001b[0;34m)\u001b[0m\u001b[0;34m,\u001b[0m\u001b[0;34m\u001b[0m\u001b[0;34m\u001b[0m\u001b[0m\n\u001b[1;32m      3\u001b[0m    \u001b[0;34m'regnetx_006'\u001b[0m \u001b[0;34m:\u001b[0m \u001b[0mRegNetScaler\u001b[0m\u001b[0;34m(\u001b[0m\u001b[0;34m)\u001b[0m\u001b[0;34m(\u001b[0m\u001b[0mw_0\u001b[0m \u001b[0;34m=\u001b[0m \u001b[0;36m48\u001b[0m\u001b[0;34m,\u001b[0m \u001b[0mw_a\u001b[0m \u001b[0;34m=\u001b[0m \u001b[0;36m36.97\u001b[0m\u001b[0;34m,\u001b[0m \u001b[0mw_m\u001b[0m \u001b[0;34m=\u001b[0m \u001b[0;36m2.24\u001b[0m\u001b[0;34m,\u001b[0m \u001b[0mgroup_w\u001b[0m \u001b[0;34m=\u001b[0m \u001b[0;36m24\u001b[0m\u001b[0;34m,\u001b[0m \u001b[0mdepth\u001b[0m \u001b[0;34m=\u001b[0m \u001b[0;36m16\u001b[0m \u001b[0;34m)\u001b[0m\u001b[0;34m,\u001b[0m\u001b[0;34m\u001b[0m\u001b[0;34m\u001b[0m\u001b[0m\n\u001b[1;32m      4\u001b[0m    \u001b[0;34m'regnetx_008'\u001b[0m \u001b[0;34m:\u001b[0m \u001b[0mRegNetScaler\u001b[0m\u001b[0;34m(\u001b[0m\u001b[0;34m)\u001b[0m\u001b[0;34m(\u001b[0m\u001b[0mw_0\u001b[0m \u001b[0;34m=\u001b[0m \u001b[0;36m56\u001b[0m\u001b[0;34m,\u001b[0m \u001b[0mw_a\u001b[0m \u001b[0;34m=\u001b[0m \u001b[0;36m35.73\u001b[0m\u001b[0;34m,\u001b[0m \u001b[0mw_m\u001b[0m \u001b[0;34m=\u001b[0m \u001b[0;36m2.28\u001b[0m\u001b[0;34m,\u001b[0m \u001b[0mgroup_w\u001b[0m \u001b[0;34m=\u001b[0m \u001b[0;36m16\u001b[0m\u001b[0;34m,\u001b[0m \u001b[0mdepth\u001b[0m \u001b[0;34m=\u001b[0m \u001b[0;36m16\u001b[0m \u001b[0;34m)\u001b[0m\u001b[0;34m,\u001b[0m\u001b[0;34m\u001b[0m\u001b[0;34m\u001b[0m\u001b[0m\n\u001b[1;32m      5\u001b[0m    \u001b[0;34m'regnetx_016'\u001b[0m \u001b[0;34m:\u001b[0m \u001b[0mRegNetScaler\u001b[0m\u001b[0;34m(\u001b[0m\u001b[0;34m)\u001b[0m\u001b[0;34m(\u001b[0m\u001b[0mw_0\u001b[0m \u001b[0;34m=\u001b[0m \u001b[0;36m80\u001b[0m\u001b[0;34m,\u001b[0m \u001b[0mw_a\u001b[0m \u001b[0;34m=\u001b[0m \u001b[0;36m34.01\u001b[0m\u001b[0;34m,\u001b[0m \u001b[0mw_m\u001b[0m \u001b[0;34m=\u001b[0m \u001b[0;36m2.25\u001b[0m\u001b[0;34m,\u001b[0m \u001b[0mgroup_w\u001b[0m \u001b[0;34m=\u001b[0m \u001b[0;36m24\u001b[0m\u001b[0;34m,\u001b[0m \u001b[0mdepth\u001b[0m \u001b[0;34m=\u001b[0m \u001b[0;36m18\u001b[0m \u001b[0;34m)\u001b[0m\u001b[0;34m,\u001b[0m\u001b[0;34m\u001b[0m\u001b[0;34m\u001b[0m\u001b[0m\n",
      "\u001b[0;31mNameError\u001b[0m: name 'RegNetScaler' is not defined"
     ]
    }
   ],
   "source": [
    " {'regnetx_002' : RegNetScaler()(w_0 = 24, w_a = 36.44, w_m = 2.49, group_w = 8, depth = 13 ),\n",
    "    'regnetx_004' : RegNetScaler()(w_0 = 24, w_a = 24.48, w_m = 2.54, group_w = 16, depth = 22 ),\n",
    "    'regnetx_006' : RegNetScaler()(w_0 = 48, w_a = 36.97, w_m = 2.24, group_w = 24, depth = 16 ),\n",
    "    'regnetx_008' : RegNetScaler()(w_0 = 56, w_a = 35.73, w_m = 2.28, group_w = 16, depth = 16 ),\n",
    "    'regnetx_016' : RegNetScaler()(w_0 = 80, w_a = 34.01, w_m = 2.25, group_w = 24, depth = 18 ),\n",
    "    'regnetx_032' : RegNetScaler()(w_0 = 88, w_a = 26.31, w_m = 2.25, group_w = 48, depth = 25 ),\n",
    "    'regnetx_040' : RegNetScaler()(w_0 = 96, w_a = 38.65, w_m = 2.43, group_w = 40, depth = 23 ),\n",
    "    'regnetx_064' : RegNetScaler()(w_0 = 184, w_a = 60.83, w_m = 2.07, group_w = 56, depth = 17 ),\n",
    "    'regnetx_080' : RegNetScaler()(w_0 = 80, w_a = 49.56, w_m = 2.88, group_w = 120, depth = 23 ),\n",
    "    'regnetx_120' : RegNetScaler()(w_0 = 168, w_a = 73.36, w_m = 2.37, group_w = 112, depth = 19 ),\n",
    "    'regnetx_160' : RegNetScaler()(w_0 = 216, w_a = 55.59, w_m = 2.1, group_w = 128, depth = 22 ),\n",
    "    'regnetx_320' : RegNetScaler()(w_0 = 320, w_a = 69.86, w_m = 2.0, group_w = 168, depth = 23 ),\n",
    "    'regnety_002' : RegNetScaler()(w_0 = 24, w_a = 36.44, w_m = 2.49, group_w = 8, depth = 13 ),\n",
    "    'regnety_004' : RegNetScaler()(w_0 = 48, w_a = 27.89, w_m = 2.09, group_w = 8, depth = 16 ),\n",
    "    'regnety_006' : RegNetScaler()(w_0 = 48, w_a = 32.54, w_m = 2.32, group_w = 16, depth = 15 ),\n",
    "    'regnety_008' : RegNetScaler()(w_0 = 56, w_a = 38.84, w_m = 2.4, group_w = 16, depth = 14 ),\n",
    "    'regnety_016' : RegNetScaler()(w_0 = 48, w_a = 20.71, w_m = 2.65, group_w = 24, depth = 27 ),\n",
    "    'regnety_032' : RegNetScaler()(w_0 = 80, w_a = 42.63, w_m = 2.66, group_w = 24, depth = 21 ),\n",
    "    'regnety_040' : RegNetScaler()(w_0 = 96, w_a = 31.41, w_m = 2.24, group_w = 64, depth = 22 ),\n",
    "    'regnety_064' : RegNetScaler()(w_0 = 112, w_a = 33.22, w_m = 2.27, group_w = 72, depth = 25 ),\n",
    "    'regnety_080' : RegNetScaler()(w_0 = 192, w_a = 76.82, w_m = 2.19, group_w = 56, depth = 17 ),\n",
    "    'regnety_120' : RegNetScaler()(w_0 = 168, w_a = 73.36, w_m = 2.37, group_w = 112, depth = 19 ),\n",
    "    'regnety_160' : RegNetScaler()(w_0 = 200, w_a = 106.23, w_m = 2.48, group_w = 112, depth = 18 ),\n",
    "    'regnety_320' : RegNetScaler()(w_0 = 232, w_a = 115.89, w_m = 2.53, group_w = 232, depth = 20)}"
   ]
  },
  {
   "cell_type": "markdown",
   "metadata": {},
   "source": [
    "# Clone"
   ]
  },
  {
   "cell_type": "code",
   "execution_count": null,
   "metadata": {},
   "outputs": [],
   "source": [
    "from glasses.models import AutoModel, AutoConfig, EfficientNetLite\n",
    "import timm\n",
    "from transfer_weights import clone_model\n",
    "from benchmark import benchmark\n",
    "\n",
    "src = timm.create_model('tf_efficientnet_lite1', pretrained='True')\n",
    "# dst = AutoModel.from_name('resnet34d')\n",
    "dst = EfficientNetLite.efficientnet_lite1(mode='same')"
   ]
  },
  {
   "cell_type": "code",
   "execution_count": null,
   "metadata": {},
   "outputs": [],
   "source": [
    "dst = clone_model(src, dst).eval()"
   ]
  },
  {
   "cell_type": "code",
   "execution_count": null,
   "metadata": {},
   "outputs": [],
   "source": [
    "timm.list_models()"
   ]
  },
  {
   "cell_type": "markdown",
   "metadata": {},
   "source": [
    "**SE features are in_features / reduction not out_features / reduction**"
   ]
  },
  {
   "cell_type": "code",
   "execution_count": null,
   "metadata": {
    "scrolled": true
   },
   "outputs": [],
   "source": [
    "dst = clone_model(src, dst).eval()"
   ]
  },
  {
   "cell_type": "code",
   "execution_count": null,
   "metadata": {
    "scrolled": false
   },
   "outputs": [],
   "source": [
    "import torch\n",
    "\n",
    "transform = AutoConfig.from_name('efficientnet_b0').transform\n",
    "\n",
    "benchmark(src.cuda(), transform, batch_size=128)"
   ]
  },
  {
   "cell_type": "code",
   "execution_count": null,
   "metadata": {},
   "outputs": [],
   "source": [
    "\n",
    "transform = AutoConfig.from_name('resnet18').transform\n",
    "\n",
    "benchmark(src.cuda(), transform, batch_size=128)"
   ]
  },
  {
   "cell_type": "markdown",
   "metadata": {},
   "source": [
    "# Pretrained weights"
   ]
  },
  {
   "cell_type": "code",
   "execution_count": null,
   "metadata": {},
   "outputs": [],
   "source": [
    "from pathlib import Path\n",
    "\n",
    "root = Path('/home/zuppif/Documents/glasses-weights/')\n",
    "\n",
    "models = map(lambda x: x.stem, root.glob('*.pth'))\n",
    "\n",
    "for model in models:\n",
    "    print(f\"'{model}': BasicUrlHandler('https://github.com/FrancescoSaverioZuppichini/glasses-weights/blob/main/{model}.pth?raw=true'),\")"
   ]
  },
  {
   "cell_type": "markdown",
   "metadata": {},
   "source": [
    "## FPN"
   ]
  },
  {
   "cell_type": "code",
   "execution_count": null,
   "metadata": {},
   "outputs": [],
   "source": []
  }
 ],
 "metadata": {
  "kernelspec": {
   "display_name": "Python 3",
   "language": "python",
   "name": "python3"
  },
  "language_info": {
   "codemirror_mode": {
    "name": "ipython",
    "version": 3
   },
   "file_extension": ".py",
   "mimetype": "text/x-python",
   "name": "python",
   "nbconvert_exporter": "python",
   "pygments_lexer": "ipython3",
   "version": "3.8.2"
  }
 },
 "nbformat": 4,
 "nbformat_minor": 4
}
